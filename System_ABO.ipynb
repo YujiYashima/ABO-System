{
  "nbformat": 4,
  "nbformat_minor": 0,
  "metadata": {
    "colab": {
      "name": "System-ABO.ipynb",
      "provenance": [],
      "authorship_tag": "ABX9TyM+z6Pj/swJS3OsnirBoY1O",
      "include_colab_link": true
    },
    "kernelspec": {
      "name": "python3",
      "display_name": "Python 3"
    },
    "language_info": {
      "name": "python"
    }
  },
  "cells": [
    {
      "cell_type": "markdown",
      "metadata": {
        "id": "view-in-github",
        "colab_type": "text"
      },
      "source": [
        "<a href=\"https://colab.research.google.com/github/YujiYashima/ABO-System/blob/main/System_ABO.ipynb\" target=\"_parent\"><img src=\"https://colab.research.google.com/assets/colab-badge.svg\" alt=\"Open In Colab\"/></a>"
      ]
    },
    {
      "cell_type": "markdown",
      "source": [
        "# ABO System\n",
        "\n",
        "An application that handles and manipulates functions and variables related to the type of blood system: **ABO System**.\n",
        "\n",
        "\n",
        "###### Suport Link:\n",
        "- [https://www.britannica.com/science/ABO-blood-group-system](https://www.britannica.com/science/ABO-blood-group-system)\n",
        "\n",
        "\n",
        "###### Explanation:\n",
        "- __Genotype__: A genotype is an individual's collection of genes. _EX: \"IAi\", \"IAIA\", \"IBi\", \"IBIB\", \"IAIB\", \"ii\"_.\n",
        "- __Phenotype__: A phenotype is an individual's observable traits, such as height, eye color, and blood type. _EX: \"A\", \"B\", \"AB\", \"O\"_.\n"
      ],
      "metadata": {
        "id": "-jWem3kt8Zwq"
      }
    },
    {
      "cell_type": "markdown",
      "source": [
        "### Initial Variables"
      ],
      "metadata": {
        "id": "7jRHrMvMXQZp"
      }
    },
    {
      "cell_type": "code",
      "execution_count": 21,
      "metadata": {
        "id": "hTBlvwN08Usx"
      },
      "outputs": [],
      "source": [
        "# List of Genotype and Phenotype\n",
        "genotype = [\"IAi\", \"IAIA\", \"IBi\", \"IBIB\", \"IAIB\", \"ii\"]\n",
        "phenotype = [\"A\", \"A\", \"B\", \"B\", \"AB\", \"O\"]  "
      ]
    },
    {
      "cell_type": "markdown",
      "source": [
        "### Blood Type (Phenotype)\n",
        "\n",
        "Function that returns the blood type (phenotype) with information about your genotype.\n",
        "\n",
        "- **genos (str)**: _\"IAi\" or \"IAIA\" or \"IBi\" or \"IBIB\" or \"IAIB\" or \"ii\"_.\n",
        "- **return (str || none)**: _\"A\" or \"B\" or \"AB\" or \"O\"_."
      ],
      "metadata": {
        "id": "Xb8ywZNUgCTV"
      }
    },
    {
      "cell_type": "code",
      "source": [
        "def blood_type(genos):\n",
        "  for i in range(len(genotype)):\n",
        "    if genotype[i] == genos:\n",
        "      return phenotype[i]"
      ],
      "metadata": {
        "id": "FdUBN8mEPKA7"
      },
      "execution_count": 11,
      "outputs": []
    },
    {
      "cell_type": "markdown",
      "source": [
        "### Alleles (Genotype)\n",
        "\n",
        "Function that returns alleles (genotypes) with your phenotype information.\n",
        "\n",
        "- **phenos (str)**:  _\"A\" or \"B\" or \"AB\" or \"O\"_. \n",
        "- **return (list)**: _[YourGenotypes] or [&nbsp;]_"
      ],
      "metadata": {
        "id": "dNaWQxfjguDm"
      }
    },
    {
      "cell_type": "code",
      "source": [
        "def alleles(phenos):\n",
        "  possible_genotypes = []\n",
        "  for i in range(len(genotype)):\n",
        "    if phenotype[i] == phenos:\n",
        "      possible_genotypes.append(genotype[i])\n",
        "  return possible_genotypes"
      ],
      "metadata": {
        "id": "mfc7HT-KZx1y"
      },
      "execution_count": 22,
      "outputs": []
    }
  ]
}